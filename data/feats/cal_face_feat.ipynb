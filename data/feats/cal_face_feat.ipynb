{
 "cells": [
  {
   "cell_type": "code",
   "execution_count": null,
   "metadata": {},
   "outputs": [],
   "source": [
    "import cv2\n",
    "import os\n",
    "import numpy as np\n",
    "import insightface\n",
    "from insightface.app import FaceAnalysis\n",
    "from PIL import Image, ImageOps\n",
    "\n",
    "print(insightface.__version__) # 0.7.3\n",
    "model_pack_name = 'antelopev2'\n",
    "app = FaceAnalysis(name=model_pack_name, allowed_modules=['detection', 'recognition'], providers=['CUDAExecutionProvider', 'CPUExecutionProvider'])\n",
    "app.prepare(ctx_id=0, det_size=(640, 640))"
   ]
  },
  {
   "cell_type": "code",
   "execution_count": null,
   "metadata": {},
   "outputs": [],
   "source": [
    "folder_path = '../photos'\n",
    "faces = {}\n",
    "\n",
    "for filename in os.listdir(folder_path):\n",
    "    name_parts = filename.replace('.jpg', '').split('_')\n",
    "    show = name_parts[0]  # bbt\n",
    "    identity = name_parts[1]  # Alex\n",
    "    number = name_parts[2]  # 0\n",
    "\n",
    "    if show not in faces:\n",
    "        faces[show] = {}\n",
    "    if identity not in faces[show]:\n",
    "        faces[show][identity] = {}\n",
    "\n",
    "    image_path = os.path.join(folder_path, filename)\n",
    "    image = Image.open(image_path).convert(\"RGB\")\n",
    "    face_info = app.get(cv2.cvtColor(np.array(image), cv2.COLOR_RGB2BGR))\n",
    "    if len(face_info) != 1:\n",
    "        image = ImageOps.expand(image, border=100, fill='black')\n",
    "        face_info = app.get(cv2.cvtColor(np.array(image), cv2.COLOR_RGB2BGR))\n",
    "        assert len(face_info) == 1, f\"Show: {show}, Identity: {identity}, Number: {number}\"\n",
    "    \n",
    "    faces[show][identity][number] = face_info[0]"
   ]
  },
  {
   "cell_type": "code",
   "execution_count": null,
   "metadata": {},
   "outputs": [],
   "source": [
    "def sim(x, y):\n",
    "    return x.dot(y) / np.sqrt(x.dot(x) * y.dot(y))\n",
    "\n",
    "import h5py\n",
    "\n",
    "with h5py.File('face_feat.h5', 'w') as hf:\n",
    "    for show in faces.keys():\n",
    "        for name, info in faces[show].items():\n",
    "            embedding = info['0']['embedding'] if '0' in info else info['1']['embedding']\n",
    "            dataset_name = f\"{show}_{name}\"\n",
    "            hf.create_dataset(dataset_name, data=embedding, dtype='float16')\n",
    "\n",
    "            # if '0' in info and '1' in info:\n",
    "            #     s = sim(info['0']['embedding'], info['1']['embedding'])\n",
    "            #     if s < 0.4:\n",
    "            #         print(show, name, s)\n",
    "    \n",
    "    print(hf[\"castle_Scarlett\"][:].shape, hf[\"castle_Scarlett\"][:].dtype)"
   ]
  }
 ],
 "metadata": {
  "kernelspec": {
   "display_name": "torch",
   "language": "python",
   "name": "python3"
  },
  "language_info": {
   "codemirror_mode": {
    "name": "ipython",
    "version": 3
   },
   "file_extension": ".py",
   "mimetype": "text/x-python",
   "name": "python",
   "nbconvert_exporter": "python",
   "pygments_lexer": "ipython3",
   "version": "3.10.0"
  }
 },
 "nbformat": 4,
 "nbformat_minor": 2
}
